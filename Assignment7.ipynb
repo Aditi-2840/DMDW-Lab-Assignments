{
  "nbformat": 4,
  "nbformat_minor": 0,
  "metadata": {
    "colab": {
      "name": "Assignment7.ipynb",
      "provenance": [],
      "collapsed_sections": [],
      "authorship_tag": "ABX9TyOHMUD0khRY7gGj+Lin0d0h",
      "include_colab_link": true
    },
    "kernelspec": {
      "name": "python3",
      "display_name": "Python 3"
    }
  },
  "cells": [
    {
      "cell_type": "markdown",
      "metadata": {
        "id": "view-in-github",
        "colab_type": "text"
      },
      "source": [
        "<a href=\"https://colab.research.google.com/github/Aditi-2840/Dmdw-Lab-Assignments/blob/main/Assignment7.ipynb\" target=\"_parent\"><img src=\"https://colab.research.google.com/assets/colab-badge.svg\" alt=\"Open In Colab\"/></a>"
      ]
    },
    {
      "cell_type": "code",
      "metadata": {
        "id": "lp8i0_Mdr8gM"
      },
      "source": [
        "import pandas as pd\r\n",
        "import numpy as np"
      ],
      "execution_count": 1,
      "outputs": []
    },
    {
      "cell_type": "code",
      "metadata": {
        "id": "-YMvSKaTr9e6"
      },
      "source": [
        "dataset = pd.read_csv('https://raw.githubusercontent.com/GouriNayak/DMDW/main/iris.csv')"
      ],
      "execution_count": 2,
      "outputs": []
    },
    {
      "cell_type": "code",
      "metadata": {
        "colab": {
          "base_uri": "https://localhost:8080/",
          "height": 402
        },
        "id": "SelNALwhsBbc",
        "outputId": "9c0200a3-d957-468c-9843-4e0b53a1f848"
      },
      "source": [
        "dataset"
      ],
      "execution_count": 3,
      "outputs": [
        {
          "output_type": "execute_result",
          "data": {
            "text/html": [
              "<div>\n",
              "<style scoped>\n",
              "    .dataframe tbody tr th:only-of-type {\n",
              "        vertical-align: middle;\n",
              "    }\n",
              "\n",
              "    .dataframe tbody tr th {\n",
              "        vertical-align: top;\n",
              "    }\n",
              "\n",
              "    .dataframe thead th {\n",
              "        text-align: right;\n",
              "    }\n",
              "</style>\n",
              "<table border=\"1\" class=\"dataframe\">\n",
              "  <thead>\n",
              "    <tr style=\"text-align: right;\">\n",
              "      <th></th>\n",
              "      <th>sepal_length</th>\n",
              "      <th>sepal_width</th>\n",
              "      <th>petal_length</th>\n",
              "      <th>petal_width</th>\n",
              "      <th>species</th>\n",
              "    </tr>\n",
              "  </thead>\n",
              "  <tbody>\n",
              "    <tr>\n",
              "      <th>0</th>\n",
              "      <td>5.1</td>\n",
              "      <td>3.5</td>\n",
              "      <td>1.4</td>\n",
              "      <td>0.2</td>\n",
              "      <td>setosa</td>\n",
              "    </tr>\n",
              "    <tr>\n",
              "      <th>1</th>\n",
              "      <td>4.9</td>\n",
              "      <td>3.0</td>\n",
              "      <td>1.4</td>\n",
              "      <td>0.2</td>\n",
              "      <td>setosa</td>\n",
              "    </tr>\n",
              "    <tr>\n",
              "      <th>2</th>\n",
              "      <td>4.7</td>\n",
              "      <td>3.2</td>\n",
              "      <td>1.3</td>\n",
              "      <td>0.2</td>\n",
              "      <td>setosa</td>\n",
              "    </tr>\n",
              "    <tr>\n",
              "      <th>3</th>\n",
              "      <td>4.6</td>\n",
              "      <td>3.1</td>\n",
              "      <td>1.5</td>\n",
              "      <td>0.2</td>\n",
              "      <td>setosa</td>\n",
              "    </tr>\n",
              "    <tr>\n",
              "      <th>4</th>\n",
              "      <td>5.0</td>\n",
              "      <td>3.6</td>\n",
              "      <td>1.4</td>\n",
              "      <td>0.2</td>\n",
              "      <td>setosa</td>\n",
              "    </tr>\n",
              "    <tr>\n",
              "      <th>...</th>\n",
              "      <td>...</td>\n",
              "      <td>...</td>\n",
              "      <td>...</td>\n",
              "      <td>...</td>\n",
              "      <td>...</td>\n",
              "    </tr>\n",
              "    <tr>\n",
              "      <th>145</th>\n",
              "      <td>6.7</td>\n",
              "      <td>3.0</td>\n",
              "      <td>5.2</td>\n",
              "      <td>2.3</td>\n",
              "      <td>virginica</td>\n",
              "    </tr>\n",
              "    <tr>\n",
              "      <th>146</th>\n",
              "      <td>6.3</td>\n",
              "      <td>2.5</td>\n",
              "      <td>5.0</td>\n",
              "      <td>1.9</td>\n",
              "      <td>virginica</td>\n",
              "    </tr>\n",
              "    <tr>\n",
              "      <th>147</th>\n",
              "      <td>6.5</td>\n",
              "      <td>3.0</td>\n",
              "      <td>5.2</td>\n",
              "      <td>2.0</td>\n",
              "      <td>virginica</td>\n",
              "    </tr>\n",
              "    <tr>\n",
              "      <th>148</th>\n",
              "      <td>6.2</td>\n",
              "      <td>3.4</td>\n",
              "      <td>5.4</td>\n",
              "      <td>2.3</td>\n",
              "      <td>virginica</td>\n",
              "    </tr>\n",
              "    <tr>\n",
              "      <th>149</th>\n",
              "      <td>5.9</td>\n",
              "      <td>3.0</td>\n",
              "      <td>5.1</td>\n",
              "      <td>1.8</td>\n",
              "      <td>virginica</td>\n",
              "    </tr>\n",
              "  </tbody>\n",
              "</table>\n",
              "<p>150 rows × 5 columns</p>\n",
              "</div>"
            ],
            "text/plain": [
              "     sepal_length  sepal_width  petal_length  petal_width    species\n",
              "0             5.1          3.5           1.4          0.2     setosa\n",
              "1             4.9          3.0           1.4          0.2     setosa\n",
              "2             4.7          3.2           1.3          0.2     setosa\n",
              "3             4.6          3.1           1.5          0.2     setosa\n",
              "4             5.0          3.6           1.4          0.2     setosa\n",
              "..            ...          ...           ...          ...        ...\n",
              "145           6.7          3.0           5.2          2.3  virginica\n",
              "146           6.3          2.5           5.0          1.9  virginica\n",
              "147           6.5          3.0           5.2          2.0  virginica\n",
              "148           6.2          3.4           5.4          2.3  virginica\n",
              "149           5.9          3.0           5.1          1.8  virginica\n",
              "\n",
              "[150 rows x 5 columns]"
            ]
          },
          "metadata": {
            "tags": []
          },
          "execution_count": 3
        }
      ]
    },
    {
      "cell_type": "code",
      "metadata": {
        "colab": {
          "base_uri": "https://localhost:8080/",
          "height": 402
        },
        "id": "qe2ALGFKsEg4",
        "outputId": "8e6135c3-cf0c-41a0-c6e1-f68c5cf32b4a"
      },
      "source": [
        "\r\n",
        "dataset.iloc[:,1:5]"
      ],
      "execution_count": 4,
      "outputs": [
        {
          "output_type": "execute_result",
          "data": {
            "text/html": [
              "<div>\n",
              "<style scoped>\n",
              "    .dataframe tbody tr th:only-of-type {\n",
              "        vertical-align: middle;\n",
              "    }\n",
              "\n",
              "    .dataframe tbody tr th {\n",
              "        vertical-align: top;\n",
              "    }\n",
              "\n",
              "    .dataframe thead th {\n",
              "        text-align: right;\n",
              "    }\n",
              "</style>\n",
              "<table border=\"1\" class=\"dataframe\">\n",
              "  <thead>\n",
              "    <tr style=\"text-align: right;\">\n",
              "      <th></th>\n",
              "      <th>sepal_width</th>\n",
              "      <th>petal_length</th>\n",
              "      <th>petal_width</th>\n",
              "      <th>species</th>\n",
              "    </tr>\n",
              "  </thead>\n",
              "  <tbody>\n",
              "    <tr>\n",
              "      <th>0</th>\n",
              "      <td>3.5</td>\n",
              "      <td>1.4</td>\n",
              "      <td>0.2</td>\n",
              "      <td>setosa</td>\n",
              "    </tr>\n",
              "    <tr>\n",
              "      <th>1</th>\n",
              "      <td>3.0</td>\n",
              "      <td>1.4</td>\n",
              "      <td>0.2</td>\n",
              "      <td>setosa</td>\n",
              "    </tr>\n",
              "    <tr>\n",
              "      <th>2</th>\n",
              "      <td>3.2</td>\n",
              "      <td>1.3</td>\n",
              "      <td>0.2</td>\n",
              "      <td>setosa</td>\n",
              "    </tr>\n",
              "    <tr>\n",
              "      <th>3</th>\n",
              "      <td>3.1</td>\n",
              "      <td>1.5</td>\n",
              "      <td>0.2</td>\n",
              "      <td>setosa</td>\n",
              "    </tr>\n",
              "    <tr>\n",
              "      <th>4</th>\n",
              "      <td>3.6</td>\n",
              "      <td>1.4</td>\n",
              "      <td>0.2</td>\n",
              "      <td>setosa</td>\n",
              "    </tr>\n",
              "    <tr>\n",
              "      <th>...</th>\n",
              "      <td>...</td>\n",
              "      <td>...</td>\n",
              "      <td>...</td>\n",
              "      <td>...</td>\n",
              "    </tr>\n",
              "    <tr>\n",
              "      <th>145</th>\n",
              "      <td>3.0</td>\n",
              "      <td>5.2</td>\n",
              "      <td>2.3</td>\n",
              "      <td>virginica</td>\n",
              "    </tr>\n",
              "    <tr>\n",
              "      <th>146</th>\n",
              "      <td>2.5</td>\n",
              "      <td>5.0</td>\n",
              "      <td>1.9</td>\n",
              "      <td>virginica</td>\n",
              "    </tr>\n",
              "    <tr>\n",
              "      <th>147</th>\n",
              "      <td>3.0</td>\n",
              "      <td>5.2</td>\n",
              "      <td>2.0</td>\n",
              "      <td>virginica</td>\n",
              "    </tr>\n",
              "    <tr>\n",
              "      <th>148</th>\n",
              "      <td>3.4</td>\n",
              "      <td>5.4</td>\n",
              "      <td>2.3</td>\n",
              "      <td>virginica</td>\n",
              "    </tr>\n",
              "    <tr>\n",
              "      <th>149</th>\n",
              "      <td>3.0</td>\n",
              "      <td>5.1</td>\n",
              "      <td>1.8</td>\n",
              "      <td>virginica</td>\n",
              "    </tr>\n",
              "  </tbody>\n",
              "</table>\n",
              "<p>150 rows × 4 columns</p>\n",
              "</div>"
            ],
            "text/plain": [
              "     sepal_width  petal_length  petal_width    species\n",
              "0            3.5           1.4          0.2     setosa\n",
              "1            3.0           1.4          0.2     setosa\n",
              "2            3.2           1.3          0.2     setosa\n",
              "3            3.1           1.5          0.2     setosa\n",
              "4            3.6           1.4          0.2     setosa\n",
              "..           ...           ...          ...        ...\n",
              "145          3.0           5.2          2.3  virginica\n",
              "146          2.5           5.0          1.9  virginica\n",
              "147          3.0           5.2          2.0  virginica\n",
              "148          3.4           5.4          2.3  virginica\n",
              "149          3.0           5.1          1.8  virginica\n",
              "\n",
              "[150 rows x 4 columns]"
            ]
          },
          "metadata": {
            "tags": []
          },
          "execution_count": 4
        }
      ]
    },
    {
      "cell_type": "code",
      "metadata": {
        "colab": {
          "base_uri": "https://localhost:8080/"
        },
        "id": "lRSBkSHtsIXg",
        "outputId": "00a51e40-d416-4907-a750-a0ce05dd4b1d"
      },
      "source": [
        "dataset.iloc[:,1:4].values"
      ],
      "execution_count": 5,
      "outputs": [
        {
          "output_type": "execute_result",
          "data": {
            "text/plain": [
              "array([[3.5, 1.4, 0.2],\n",
              "       [3. , 1.4, 0.2],\n",
              "       [3.2, 1.3, 0.2],\n",
              "       [3.1, 1.5, 0.2],\n",
              "       [3.6, 1.4, 0.2],\n",
              "       [3.9, 1.7, 0.4],\n",
              "       [3.4, 1.4, 0.3],\n",
              "       [3.4, 1.5, 0.2],\n",
              "       [2.9, 1.4, 0.2],\n",
              "       [3.1, 1.5, 0.1],\n",
              "       [3.7, 1.5, 0.2],\n",
              "       [3.4, 1.6, 0.2],\n",
              "       [3. , 1.4, 0.1],\n",
              "       [3. , 1.1, 0.1],\n",
              "       [4. , 1.2, 0.2],\n",
              "       [4.4, 1.5, 0.4],\n",
              "       [3.9, 1.3, 0.4],\n",
              "       [3.5, 1.4, 0.3],\n",
              "       [3.8, 1.7, 0.3],\n",
              "       [3.8, 1.5, 0.3],\n",
              "       [3.4, 1.7, 0.2],\n",
              "       [3.7, 1.5, 0.4],\n",
              "       [3.6, 1. , 0.2],\n",
              "       [3.3, 1.7, 0.5],\n",
              "       [3.4, 1.9, 0.2],\n",
              "       [3. , 1.6, 0.2],\n",
              "       [3.4, 1.6, 0.4],\n",
              "       [3.5, 1.5, 0.2],\n",
              "       [3.4, 1.4, 0.2],\n",
              "       [3.2, 1.6, 0.2],\n",
              "       [3.1, 1.6, 0.2],\n",
              "       [3.4, 1.5, 0.4],\n",
              "       [4.1, 1.5, 0.1],\n",
              "       [4.2, 1.4, 0.2],\n",
              "       [3.1, 1.5, 0.2],\n",
              "       [3.2, 1.2, 0.2],\n",
              "       [3.5, 1.3, 0.2],\n",
              "       [3.6, 1.4, 0.1],\n",
              "       [3. , 1.3, 0.2],\n",
              "       [3.4, 1.5, 0.2],\n",
              "       [3.5, 1.3, 0.3],\n",
              "       [2.3, 1.3, 0.3],\n",
              "       [3.2, 1.3, 0.2],\n",
              "       [3.5, 1.6, 0.6],\n",
              "       [3.8, 1.9, 0.4],\n",
              "       [3. , 1.4, 0.3],\n",
              "       [3.8, 1.6, 0.2],\n",
              "       [3.2, 1.4, 0.2],\n",
              "       [3.7, 1.5, 0.2],\n",
              "       [3.3, 1.4, 0.2],\n",
              "       [3.2, 4.7, 1.4],\n",
              "       [3.2, 4.5, 1.5],\n",
              "       [3.1, 4.9, 1.5],\n",
              "       [2.3, 4. , 1.3],\n",
              "       [2.8, 4.6, 1.5],\n",
              "       [2.8, 4.5, 1.3],\n",
              "       [3.3, 4.7, 1.6],\n",
              "       [2.4, 3.3, 1. ],\n",
              "       [2.9, 4.6, 1.3],\n",
              "       [2.7, 3.9, 1.4],\n",
              "       [2. , 3.5, 1. ],\n",
              "       [3. , 4.2, 1.5],\n",
              "       [2.2, 4. , 1. ],\n",
              "       [2.9, 4.7, 1.4],\n",
              "       [2.9, 3.6, 1.3],\n",
              "       [3.1, 4.4, 1.4],\n",
              "       [3. , 4.5, 1.5],\n",
              "       [2.7, 4.1, 1. ],\n",
              "       [2.2, 4.5, 1.5],\n",
              "       [2.5, 3.9, 1.1],\n",
              "       [3.2, 4.8, 1.8],\n",
              "       [2.8, 4. , 1.3],\n",
              "       [2.5, 4.9, 1.5],\n",
              "       [2.8, 4.7, 1.2],\n",
              "       [2.9, 4.3, 1.3],\n",
              "       [3. , 4.4, 1.4],\n",
              "       [2.8, 4.8, 1.4],\n",
              "       [3. , 5. , 1.7],\n",
              "       [2.9, 4.5, 1.5],\n",
              "       [2.6, 3.5, 1. ],\n",
              "       [2.4, 3.8, 1.1],\n",
              "       [2.4, 3.7, 1. ],\n",
              "       [2.7, 3.9, 1.2],\n",
              "       [2.7, 5.1, 1.6],\n",
              "       [3. , 4.5, 1.5],\n",
              "       [3.4, 4.5, 1.6],\n",
              "       [3.1, 4.7, 1.5],\n",
              "       [2.3, 4.4, 1.3],\n",
              "       [3. , 4.1, 1.3],\n",
              "       [2.5, 4. , 1.3],\n",
              "       [2.6, 4.4, 1.2],\n",
              "       [3. , 4.6, 1.4],\n",
              "       [2.6, 4. , 1.2],\n",
              "       [2.3, 3.3, 1. ],\n",
              "       [2.7, 4.2, 1.3],\n",
              "       [3. , 4.2, 1.2],\n",
              "       [2.9, 4.2, 1.3],\n",
              "       [2.9, 4.3, 1.3],\n",
              "       [2.5, 3. , 1.1],\n",
              "       [2.8, 4.1, 1.3],\n",
              "       [3.3, 6. , 2.5],\n",
              "       [2.7, 5.1, 1.9],\n",
              "       [3. , 5.9, 2.1],\n",
              "       [2.9, 5.6, 1.8],\n",
              "       [3. , 5.8, 2.2],\n",
              "       [3. , 6.6, 2.1],\n",
              "       [2.5, 4.5, 1.7],\n",
              "       [2.9, 6.3, 1.8],\n",
              "       [2.5, 5.8, 1.8],\n",
              "       [3.6, 6.1, 2.5],\n",
              "       [3.2, 5.1, 2. ],\n",
              "       [2.7, 5.3, 1.9],\n",
              "       [3. , 5.5, 2.1],\n",
              "       [2.5, 5. , 2. ],\n",
              "       [2.8, 5.1, 2.4],\n",
              "       [3.2, 5.3, 2.3],\n",
              "       [3. , 5.5, 1.8],\n",
              "       [3.8, 6.7, 2.2],\n",
              "       [2.6, 6.9, 2.3],\n",
              "       [2.2, 5. , 1.5],\n",
              "       [3.2, 5.7, 2.3],\n",
              "       [2.8, 4.9, 2. ],\n",
              "       [2.8, 6.7, 2. ],\n",
              "       [2.7, 4.9, 1.8],\n",
              "       [3.3, 5.7, 2.1],\n",
              "       [3.2, 6. , 1.8],\n",
              "       [2.8, 4.8, 1.8],\n",
              "       [3. , 4.9, 1.8],\n",
              "       [2.8, 5.6, 2.1],\n",
              "       [3. , 5.8, 1.6],\n",
              "       [2.8, 6.1, 1.9],\n",
              "       [3.8, 6.4, 2. ],\n",
              "       [2.8, 5.6, 2.2],\n",
              "       [2.8, 5.1, 1.5],\n",
              "       [2.6, 5.6, 1.4],\n",
              "       [3. , 6.1, 2.3],\n",
              "       [3.4, 5.6, 2.4],\n",
              "       [3.1, 5.5, 1.8],\n",
              "       [3. , 4.8, 1.8],\n",
              "       [3.1, 5.4, 2.1],\n",
              "       [3.1, 5.6, 2.4],\n",
              "       [3.1, 5.1, 2.3],\n",
              "       [2.7, 5.1, 1.9],\n",
              "       [3.2, 5.9, 2.3],\n",
              "       [3.3, 5.7, 2.5],\n",
              "       [3. , 5.2, 2.3],\n",
              "       [2.5, 5. , 1.9],\n",
              "       [3. , 5.2, 2. ],\n",
              "       [3.4, 5.4, 2.3],\n",
              "       [3. , 5.1, 1.8]])"
            ]
          },
          "metadata": {
            "tags": []
          },
          "execution_count": 5
        }
      ]
    },
    {
      "cell_type": "code",
      "metadata": {
        "id": "R57tcnA_sLLs"
      },
      "source": [
        "x=dataset.iloc[:,1:4].values"
      ],
      "execution_count": 6,
      "outputs": []
    },
    {
      "cell_type": "code",
      "metadata": {
        "id": "bWalVVbysP71"
      },
      "source": [
        "y=dataset.iloc[:,-1].values"
      ],
      "execution_count": 8,
      "outputs": []
    },
    {
      "cell_type": "code",
      "metadata": {
        "colab": {
          "base_uri": "https://localhost:8080/"
        },
        "id": "-OdzHoSssVw2",
        "outputId": "a76fcd8d-3065-4ad4-e58d-16346dafdc91"
      },
      "source": [
        "y"
      ],
      "execution_count": 9,
      "outputs": [
        {
          "output_type": "execute_result",
          "data": {
            "text/plain": [
              "array(['setosa', 'setosa', 'setosa', 'setosa', 'setosa', 'setosa',\n",
              "       'setosa', 'setosa', 'setosa', 'setosa', 'setosa', 'setosa',\n",
              "       'setosa', 'setosa', 'setosa', 'setosa', 'setosa', 'setosa',\n",
              "       'setosa', 'setosa', 'setosa', 'setosa', 'setosa', 'setosa',\n",
              "       'setosa', 'setosa', 'setosa', 'setosa', 'setosa', 'setosa',\n",
              "       'setosa', 'setosa', 'setosa', 'setosa', 'setosa', 'setosa',\n",
              "       'setosa', 'setosa', 'setosa', 'setosa', 'setosa', 'setosa',\n",
              "       'setosa', 'setosa', 'setosa', 'setosa', 'setosa', 'setosa',\n",
              "       'setosa', 'setosa', 'versicolor', 'versicolor', 'versicolor',\n",
              "       'versicolor', 'versicolor', 'versicolor', 'versicolor',\n",
              "       'versicolor', 'versicolor', 'versicolor', 'versicolor',\n",
              "       'versicolor', 'versicolor', 'versicolor', 'versicolor',\n",
              "       'versicolor', 'versicolor', 'versicolor', 'versicolor',\n",
              "       'versicolor', 'versicolor', 'versicolor', 'versicolor',\n",
              "       'versicolor', 'versicolor', 'versicolor', 'versicolor',\n",
              "       'versicolor', 'versicolor', 'versicolor', 'versicolor',\n",
              "       'versicolor', 'versicolor', 'versicolor', 'versicolor',\n",
              "       'versicolor', 'versicolor', 'versicolor', 'versicolor',\n",
              "       'versicolor', 'versicolor', 'versicolor', 'versicolor',\n",
              "       'versicolor', 'versicolor', 'versicolor', 'versicolor',\n",
              "       'versicolor', 'versicolor', 'versicolor', 'virginica', 'virginica',\n",
              "       'virginica', 'virginica', 'virginica', 'virginica', 'virginica',\n",
              "       'virginica', 'virginica', 'virginica', 'virginica', 'virginica',\n",
              "       'virginica', 'virginica', 'virginica', 'virginica', 'virginica',\n",
              "       'virginica', 'virginica', 'virginica', 'virginica', 'virginica',\n",
              "       'virginica', 'virginica', 'virginica', 'virginica', 'virginica',\n",
              "       'virginica', 'virginica', 'virginica', 'virginica', 'virginica',\n",
              "       'virginica', 'virginica', 'virginica', 'virginica', 'virginica',\n",
              "       'virginica', 'virginica', 'virginica', 'virginica', 'virginica',\n",
              "       'virginica', 'virginica', 'virginica', 'virginica', 'virginica',\n",
              "       'virginica', 'virginica', 'virginica'], dtype=object)"
            ]
          },
          "metadata": {
            "tags": []
          },
          "execution_count": 9
        }
      ]
    },
    {
      "cell_type": "code",
      "metadata": {
        "id": "Ox5_cFvrsVyO"
      },
      "source": [
        "from sklearn.preprocessing import LabelEncoder\r\n",
        "LabelEncoder_y = LabelEncoder()\r\n",
        "y = LabelEncoder_y.fit_transform(y)"
      ],
      "execution_count": 10,
      "outputs": []
    },
    {
      "cell_type": "code",
      "metadata": {
        "colab": {
          "base_uri": "https://localhost:8080/"
        },
        "id": "dG4FIG-rsV1r",
        "outputId": "97b805bc-6c2b-4aa1-9bbe-a3606a3fe54d"
      },
      "source": [
        "y"
      ],
      "execution_count": 11,
      "outputs": [
        {
          "output_type": "execute_result",
          "data": {
            "text/plain": [
              "array([0, 0, 0, 0, 0, 0, 0, 0, 0, 0, 0, 0, 0, 0, 0, 0, 0, 0, 0, 0, 0, 0,\n",
              "       0, 0, 0, 0, 0, 0, 0, 0, 0, 0, 0, 0, 0, 0, 0, 0, 0, 0, 0, 0, 0, 0,\n",
              "       0, 0, 0, 0, 0, 0, 1, 1, 1, 1, 1, 1, 1, 1, 1, 1, 1, 1, 1, 1, 1, 1,\n",
              "       1, 1, 1, 1, 1, 1, 1, 1, 1, 1, 1, 1, 1, 1, 1, 1, 1, 1, 1, 1, 1, 1,\n",
              "       1, 1, 1, 1, 1, 1, 1, 1, 1, 1, 1, 1, 2, 2, 2, 2, 2, 2, 2, 2, 2, 2,\n",
              "       2, 2, 2, 2, 2, 2, 2, 2, 2, 2, 2, 2, 2, 2, 2, 2, 2, 2, 2, 2, 2, 2,\n",
              "       2, 2, 2, 2, 2, 2, 2, 2, 2, 2, 2, 2, 2, 2, 2, 2, 2, 2])"
            ]
          },
          "metadata": {
            "tags": []
          },
          "execution_count": 11
        }
      ]
    },
    {
      "cell_type": "code",
      "metadata": {
        "colab": {
          "base_uri": "https://localhost:8080/"
        },
        "id": "078vdJTAsfOU",
        "outputId": "efeb0f2f-be1f-4d60-aa74-2cd333a7c40b"
      },
      "source": [
        "x"
      ],
      "execution_count": 12,
      "outputs": [
        {
          "output_type": "execute_result",
          "data": {
            "text/plain": [
              "array([[3.5, 1.4, 0.2],\n",
              "       [3. , 1.4, 0.2],\n",
              "       [3.2, 1.3, 0.2],\n",
              "       [3.1, 1.5, 0.2],\n",
              "       [3.6, 1.4, 0.2],\n",
              "       [3.9, 1.7, 0.4],\n",
              "       [3.4, 1.4, 0.3],\n",
              "       [3.4, 1.5, 0.2],\n",
              "       [2.9, 1.4, 0.2],\n",
              "       [3.1, 1.5, 0.1],\n",
              "       [3.7, 1.5, 0.2],\n",
              "       [3.4, 1.6, 0.2],\n",
              "       [3. , 1.4, 0.1],\n",
              "       [3. , 1.1, 0.1],\n",
              "       [4. , 1.2, 0.2],\n",
              "       [4.4, 1.5, 0.4],\n",
              "       [3.9, 1.3, 0.4],\n",
              "       [3.5, 1.4, 0.3],\n",
              "       [3.8, 1.7, 0.3],\n",
              "       [3.8, 1.5, 0.3],\n",
              "       [3.4, 1.7, 0.2],\n",
              "       [3.7, 1.5, 0.4],\n",
              "       [3.6, 1. , 0.2],\n",
              "       [3.3, 1.7, 0.5],\n",
              "       [3.4, 1.9, 0.2],\n",
              "       [3. , 1.6, 0.2],\n",
              "       [3.4, 1.6, 0.4],\n",
              "       [3.5, 1.5, 0.2],\n",
              "       [3.4, 1.4, 0.2],\n",
              "       [3.2, 1.6, 0.2],\n",
              "       [3.1, 1.6, 0.2],\n",
              "       [3.4, 1.5, 0.4],\n",
              "       [4.1, 1.5, 0.1],\n",
              "       [4.2, 1.4, 0.2],\n",
              "       [3.1, 1.5, 0.2],\n",
              "       [3.2, 1.2, 0.2],\n",
              "       [3.5, 1.3, 0.2],\n",
              "       [3.6, 1.4, 0.1],\n",
              "       [3. , 1.3, 0.2],\n",
              "       [3.4, 1.5, 0.2],\n",
              "       [3.5, 1.3, 0.3],\n",
              "       [2.3, 1.3, 0.3],\n",
              "       [3.2, 1.3, 0.2],\n",
              "       [3.5, 1.6, 0.6],\n",
              "       [3.8, 1.9, 0.4],\n",
              "       [3. , 1.4, 0.3],\n",
              "       [3.8, 1.6, 0.2],\n",
              "       [3.2, 1.4, 0.2],\n",
              "       [3.7, 1.5, 0.2],\n",
              "       [3.3, 1.4, 0.2],\n",
              "       [3.2, 4.7, 1.4],\n",
              "       [3.2, 4.5, 1.5],\n",
              "       [3.1, 4.9, 1.5],\n",
              "       [2.3, 4. , 1.3],\n",
              "       [2.8, 4.6, 1.5],\n",
              "       [2.8, 4.5, 1.3],\n",
              "       [3.3, 4.7, 1.6],\n",
              "       [2.4, 3.3, 1. ],\n",
              "       [2.9, 4.6, 1.3],\n",
              "       [2.7, 3.9, 1.4],\n",
              "       [2. , 3.5, 1. ],\n",
              "       [3. , 4.2, 1.5],\n",
              "       [2.2, 4. , 1. ],\n",
              "       [2.9, 4.7, 1.4],\n",
              "       [2.9, 3.6, 1.3],\n",
              "       [3.1, 4.4, 1.4],\n",
              "       [3. , 4.5, 1.5],\n",
              "       [2.7, 4.1, 1. ],\n",
              "       [2.2, 4.5, 1.5],\n",
              "       [2.5, 3.9, 1.1],\n",
              "       [3.2, 4.8, 1.8],\n",
              "       [2.8, 4. , 1.3],\n",
              "       [2.5, 4.9, 1.5],\n",
              "       [2.8, 4.7, 1.2],\n",
              "       [2.9, 4.3, 1.3],\n",
              "       [3. , 4.4, 1.4],\n",
              "       [2.8, 4.8, 1.4],\n",
              "       [3. , 5. , 1.7],\n",
              "       [2.9, 4.5, 1.5],\n",
              "       [2.6, 3.5, 1. ],\n",
              "       [2.4, 3.8, 1.1],\n",
              "       [2.4, 3.7, 1. ],\n",
              "       [2.7, 3.9, 1.2],\n",
              "       [2.7, 5.1, 1.6],\n",
              "       [3. , 4.5, 1.5],\n",
              "       [3.4, 4.5, 1.6],\n",
              "       [3.1, 4.7, 1.5],\n",
              "       [2.3, 4.4, 1.3],\n",
              "       [3. , 4.1, 1.3],\n",
              "       [2.5, 4. , 1.3],\n",
              "       [2.6, 4.4, 1.2],\n",
              "       [3. , 4.6, 1.4],\n",
              "       [2.6, 4. , 1.2],\n",
              "       [2.3, 3.3, 1. ],\n",
              "       [2.7, 4.2, 1.3],\n",
              "       [3. , 4.2, 1.2],\n",
              "       [2.9, 4.2, 1.3],\n",
              "       [2.9, 4.3, 1.3],\n",
              "       [2.5, 3. , 1.1],\n",
              "       [2.8, 4.1, 1.3],\n",
              "       [3.3, 6. , 2.5],\n",
              "       [2.7, 5.1, 1.9],\n",
              "       [3. , 5.9, 2.1],\n",
              "       [2.9, 5.6, 1.8],\n",
              "       [3. , 5.8, 2.2],\n",
              "       [3. , 6.6, 2.1],\n",
              "       [2.5, 4.5, 1.7],\n",
              "       [2.9, 6.3, 1.8],\n",
              "       [2.5, 5.8, 1.8],\n",
              "       [3.6, 6.1, 2.5],\n",
              "       [3.2, 5.1, 2. ],\n",
              "       [2.7, 5.3, 1.9],\n",
              "       [3. , 5.5, 2.1],\n",
              "       [2.5, 5. , 2. ],\n",
              "       [2.8, 5.1, 2.4],\n",
              "       [3.2, 5.3, 2.3],\n",
              "       [3. , 5.5, 1.8],\n",
              "       [3.8, 6.7, 2.2],\n",
              "       [2.6, 6.9, 2.3],\n",
              "       [2.2, 5. , 1.5],\n",
              "       [3.2, 5.7, 2.3],\n",
              "       [2.8, 4.9, 2. ],\n",
              "       [2.8, 6.7, 2. ],\n",
              "       [2.7, 4.9, 1.8],\n",
              "       [3.3, 5.7, 2.1],\n",
              "       [3.2, 6. , 1.8],\n",
              "       [2.8, 4.8, 1.8],\n",
              "       [3. , 4.9, 1.8],\n",
              "       [2.8, 5.6, 2.1],\n",
              "       [3. , 5.8, 1.6],\n",
              "       [2.8, 6.1, 1.9],\n",
              "       [3.8, 6.4, 2. ],\n",
              "       [2.8, 5.6, 2.2],\n",
              "       [2.8, 5.1, 1.5],\n",
              "       [2.6, 5.6, 1.4],\n",
              "       [3. , 6.1, 2.3],\n",
              "       [3.4, 5.6, 2.4],\n",
              "       [3.1, 5.5, 1.8],\n",
              "       [3. , 4.8, 1.8],\n",
              "       [3.1, 5.4, 2.1],\n",
              "       [3.1, 5.6, 2.4],\n",
              "       [3.1, 5.1, 2.3],\n",
              "       [2.7, 5.1, 1.9],\n",
              "       [3.2, 5.9, 2.3],\n",
              "       [3.3, 5.7, 2.5],\n",
              "       [3. , 5.2, 2.3],\n",
              "       [2.5, 5. , 1.9],\n",
              "       [3. , 5.2, 2. ],\n",
              "       [3.4, 5.4, 2.3],\n",
              "       [3. , 5.1, 1.8]])"
            ]
          },
          "metadata": {
            "tags": []
          },
          "execution_count": 12
        }
      ]
    },
    {
      "cell_type": "code",
      "metadata": {
        "id": "tGnlQcNGshan"
      },
      "source": [
        "from sklearn.model_selection import train_test_split\r\n",
        "x_train, x_test, y_train, y_test = train_test_split(x,y,test_size=0.2)"
      ],
      "execution_count": 13,
      "outputs": []
    },
    {
      "cell_type": "markdown",
      "metadata": {
        "id": "17oAXJvkstFy"
      },
      "source": [
        "Now we use one by one Algorithms.\r\n",
        "\r\n",
        "1st we run \"Logistic Regression\"\r\n",
        "\r\n",
        "What is meant by logistic regression?\r\n",
        "\r\n",
        "Logistic regression measures the relationship between the categorical dependent variable and one or more independent variables by estimating probabilities using a logistic function, which is the cumulative distribution function of logistic distribution.\r\n",
        "\r\n",
        "What is logistic regression good for?\r\n",
        "\r\n",
        "Logistic regression is the appropriate regression analysis to conduct when the dependent variable is dichotomous (binary).Logistic regression is used to describe data and to explain the relationship between one dependent binary variable and one or more nominal, ordinal, interval or ratio-level independent variables.\r\n",
        "\r\n",
        "What is logistic regression with example?\r\n",
        "\r\n",
        "Logistic Regression is one of the most commonly used Machine Learning algorithms that is used to model a binary variable that takes only 2 values – 0 and 1. The objective of Logistic Regression is to develop a mathematical equation that can give us a score in the range of 0 to 1."
      ]
    },
    {
      "cell_type": "code",
      "metadata": {
        "colab": {
          "base_uri": "https://localhost:8080/"
        },
        "id": "UTTYrvNzsmTU",
        "outputId": "fdf4a72b-6f83-4f89-b30e-7fe3e9d2d558"
      },
      "source": [
        "from sklearn.linear_model import LogisticRegression\r\n",
        "logmodel = LogisticRegression()\r\n",
        "logmodel.fit(x_train,y_train)"
      ],
      "execution_count": 14,
      "outputs": [
        {
          "output_type": "execute_result",
          "data": {
            "text/plain": [
              "LogisticRegression(C=1.0, class_weight=None, dual=False, fit_intercept=True,\n",
              "                   intercept_scaling=1, l1_ratio=None, max_iter=100,\n",
              "                   multi_class='auto', n_jobs=None, penalty='l2',\n",
              "                   random_state=None, solver='lbfgs', tol=0.0001, verbose=0,\n",
              "                   warm_start=False)"
            ]
          },
          "metadata": {
            "tags": []
          },
          "execution_count": 14
        }
      ]
    },
    {
      "cell_type": "code",
      "metadata": {
        "id": "obp30sV4syw3"
      },
      "source": [
        "y_pred = logmodel.predict(x_test)"
      ],
      "execution_count": 15,
      "outputs": []
    },
    {
      "cell_type": "code",
      "metadata": {
        "colab": {
          "base_uri": "https://localhost:8080/"
        },
        "id": "6aNn_QCWs2Ge",
        "outputId": "d8b3384b-533b-4329-c0a7-3f6579cc1cb4"
      },
      "source": [
        "y_pred"
      ],
      "execution_count": 16,
      "outputs": [
        {
          "output_type": "execute_result",
          "data": {
            "text/plain": [
              "array([2, 2, 0, 1, 1, 0, 1, 0, 1, 2, 1, 0, 0, 0, 0, 1, 0, 2, 0, 2, 1, 2,\n",
              "       1, 2, 1, 1, 1, 2, 1, 0])"
            ]
          },
          "metadata": {
            "tags": []
          },
          "execution_count": 16
        }
      ]
    },
    {
      "cell_type": "code",
      "metadata": {
        "colab": {
          "base_uri": "https://localhost:8080/"
        },
        "id": "8Y4M1kJCs5Ic",
        "outputId": "d3ca4fe4-7bef-4216-bb9e-e01d6c79443f"
      },
      "source": [
        "y_test"
      ],
      "execution_count": 17,
      "outputs": [
        {
          "output_type": "execute_result",
          "data": {
            "text/plain": [
              "array([2, 2, 0, 1, 1, 0, 1, 0, 1, 1, 1, 0, 0, 0, 0, 1, 0, 2, 0, 2, 1, 2,\n",
              "       1, 2, 1, 1, 1, 2, 1, 0])"
            ]
          },
          "metadata": {
            "tags": []
          },
          "execution_count": 17
        }
      ]
    },
    {
      "cell_type": "markdown",
      "metadata": {
        "id": "WJbTSnMLtAHB"
      },
      "source": [
        "Now how to check this result is true or false.\r\n",
        "\r\n",
        "By using Confusion Matrix we known the exact TRUE & FLASE values"
      ]
    },
    {
      "cell_type": "code",
      "metadata": {
        "colab": {
          "base_uri": "https://localhost:8080/"
        },
        "id": "_bFx39Pys6p3",
        "outputId": "13b1003f-860e-48ba-ee56-a73176e24382"
      },
      "source": [
        "from sklearn.metrics import confusion_matrix\r\n",
        "confusion_matrix(y_test, y_pred)"
      ],
      "execution_count": 18,
      "outputs": [
        {
          "output_type": "execute_result",
          "data": {
            "text/plain": [
              "array([[10,  0,  0],\n",
              "       [ 0, 12,  1],\n",
              "       [ 0,  0,  7]])"
            ]
          },
          "metadata": {
            "tags": []
          },
          "execution_count": 18
        }
      ]
    },
    {
      "cell_type": "code",
      "metadata": {
        "colab": {
          "base_uri": "https://localhost:8080/"
        },
        "id": "l-faX2IOtGme",
        "outputId": "3acd9bf0-8366-45b4-e80d-4023ab4c4ffe"
      },
      "source": [
        "27/30"
      ],
      "execution_count": 19,
      "outputs": [
        {
          "output_type": "execute_result",
          "data": {
            "text/plain": [
              "0.9"
            ]
          },
          "metadata": {
            "tags": []
          },
          "execution_count": 19
        }
      ]
    },
    {
      "cell_type": "code",
      "metadata": {
        "colab": {
          "base_uri": "https://localhost:8080/"
        },
        "id": "t9wSLV3btKHG",
        "outputId": "8c8e1930-b011-400c-c89f-a3371357324e"
      },
      "source": [
        "from sklearn.neighbors import KNeighborsClassifier\r\n",
        "classifier_knn = KNeighborsClassifier(n_neighbors = 5, metric = 'minkowski', p=2)\r\n",
        "classifier_knn.fit(x_train, y_train)"
      ],
      "execution_count": 20,
      "outputs": [
        {
          "output_type": "execute_result",
          "data": {
            "text/plain": [
              "KNeighborsClassifier(algorithm='auto', leaf_size=30, metric='minkowski',\n",
              "                     metric_params=None, n_jobs=None, n_neighbors=5, p=2,\n",
              "                     weights='uniform')"
            ]
          },
          "metadata": {
            "tags": []
          },
          "execution_count": 20
        }
      ]
    },
    {
      "cell_type": "code",
      "metadata": {
        "id": "C44KfHlWtUCJ"
      },
      "source": [
        "y_pred = classifier_knn.predict(x_test)"
      ],
      "execution_count": 21,
      "outputs": []
    },
    {
      "cell_type": "code",
      "metadata": {
        "colab": {
          "base_uri": "https://localhost:8080/"
        },
        "id": "Dc6-LlcMtr7s",
        "outputId": "6f714b2a-5c9d-45a4-d9bc-30cf38bc2855"
      },
      "source": [
        "confusion_matrix(y_test,y_pred)"
      ],
      "execution_count": 22,
      "outputs": [
        {
          "output_type": "execute_result",
          "data": {
            "text/plain": [
              "array([[10,  0,  0],\n",
              "       [ 0, 12,  1],\n",
              "       [ 0,  0,  7]])"
            ]
          },
          "metadata": {
            "tags": []
          },
          "execution_count": 22
        }
      ]
    },
    {
      "cell_type": "code",
      "metadata": {
        "colab": {
          "base_uri": "https://localhost:8080/"
        },
        "id": "EX31hhIxtvZ2",
        "outputId": "eeec54fd-b449-4574-8e6e-33c8b146f249"
      },
      "source": [
        "28/30"
      ],
      "execution_count": 23,
      "outputs": [
        {
          "output_type": "execute_result",
          "data": {
            "text/plain": [
              "0.9333333333333333"
            ]
          },
          "metadata": {
            "tags": []
          },
          "execution_count": 23
        }
      ]
    },
    {
      "cell_type": "markdown",
      "metadata": {
        "id": "rv8wAAKrt4a5"
      },
      "source": [
        "Now we run 3rd one \"Naive_Bayes\" algorithm. Naive Bayes is a machine learning model that is used for large volumes of data, even if you are working with data that has millions of data records the recommended approach is Naive Bayes. It gives very good results when it comes to NLP tasks such as sentimental analysis.\r\n",
        "\r\n",
        "Why naive Bayes is naive?\r\n",
        "\r\n",
        "Naive Bayes is called naive because it assumes that each input variable is independent. This is a strong assumption and unrealistic for real data; however, the technique is very effective on a large range of complex problems.\r\n",
        "\r\n",
        "What are the advantages of naive Bayes?\r\n",
        "\r\n",
        "Naive Bayes is suitable for solving multi-class prediction problems. If its assumption of the independence of features holds true, it can perform better than other models and requires much less training data. Naive Bayes is better suited for categorical input variables than numerical variables."
      ]
    },
    {
      "cell_type": "code",
      "metadata": {
        "colab": {
          "base_uri": "https://localhost:8080/"
        },
        "id": "Cae-kbYZtyge",
        "outputId": "ed8f8e78-9091-46ee-b068-c93e13072a9a"
      },
      "source": [
        "from sklearn.naive_bayes import GaussianNB\r\n",
        "classifier_nb = GaussianNB()\r\n",
        "classifier_nb.fit(x_train,y_train)"
      ],
      "execution_count": 24,
      "outputs": [
        {
          "output_type": "execute_result",
          "data": {
            "text/plain": [
              "GaussianNB(priors=None, var_smoothing=1e-09)"
            ]
          },
          "metadata": {
            "tags": []
          },
          "execution_count": 24
        }
      ]
    },
    {
      "cell_type": "code",
      "metadata": {
        "id": "xzbeuvtit9OM"
      },
      "source": [
        "y_pred = classifier_nb.predict(x_test)"
      ],
      "execution_count": 25,
      "outputs": []
    },
    {
      "cell_type": "code",
      "metadata": {
        "colab": {
          "base_uri": "https://localhost:8080/"
        },
        "id": "ovdV9ffRuBgo",
        "outputId": "406ecfb2-7ea9-43db-e714-031db3a10cbd"
      },
      "source": [
        "confusion_matrix(y_test,y_pred)"
      ],
      "execution_count": 26,
      "outputs": [
        {
          "output_type": "execute_result",
          "data": {
            "text/plain": [
              "array([[10,  0,  0],\n",
              "       [ 0, 12,  1],\n",
              "       [ 0,  0,  7]])"
            ]
          },
          "metadata": {
            "tags": []
          },
          "execution_count": 26
        }
      ]
    },
    {
      "cell_type": "markdown",
      "metadata": {
        "id": "XH_MRa-PuLfD"
      },
      "source": [
        "Now we run 4th one \"Dession Tree\" algorithm.\r\n",
        "\r\n",
        "What is decision tree algorithm in machine learning?\r\n",
        "\r\n",
        "Introduction Decision Trees are a type of Supervised Machine Learning (that is you explain what the input is and what the corresponding output is in the training data) where the data is continuously split according to a certain parameter. The tree can be explained by two entities, namely decision nodes and leaves.\r\n",
        "\r\n",
        "Which algorithm is used in decision tree?\r\n",
        "\r\n",
        "In order to build a tree, we use the CART algorithm, which stands for Classification and Regression Tree algorithm. A decision tree simply asks a question, and based on the answer (Yes/No), it further split the tree into subtrees.\r\n",
        "\r\n",
        "What are the types of decision tree?\r\n",
        "\r\n",
        "There are two main types of decision trees that are based on the target variable, i.e., categorical variable decision trees and continuous variable decision trees. Categorical variable decision tree. Continuous variable decision tree."
      ]
    },
    {
      "cell_type": "code",
      "metadata": {
        "colab": {
          "base_uri": "https://localhost:8080/"
        },
        "id": "_gN26k1IuEpp",
        "outputId": "ae237ecc-2b1d-4f4d-dd50-bcee0eedcadc"
      },
      "source": [
        "from sklearn.tree import DecisionTreeClassifier\r\n",
        "classifier_dt = DecisionTreeClassifier(criterion = 'entropy')\r\n",
        "classifier_dt.fit(x_train,y_train)"
      ],
      "execution_count": 27,
      "outputs": [
        {
          "output_type": "execute_result",
          "data": {
            "text/plain": [
              "DecisionTreeClassifier(ccp_alpha=0.0, class_weight=None, criterion='entropy',\n",
              "                       max_depth=None, max_features=None, max_leaf_nodes=None,\n",
              "                       min_impurity_decrease=0.0, min_impurity_split=None,\n",
              "                       min_samples_leaf=1, min_samples_split=2,\n",
              "                       min_weight_fraction_leaf=0.0, presort='deprecated',\n",
              "                       random_state=None, splitter='best')"
            ]
          },
          "metadata": {
            "tags": []
          },
          "execution_count": 27
        }
      ]
    },
    {
      "cell_type": "code",
      "metadata": {
        "id": "0nHJdfNvuRZn"
      },
      "source": [
        "y_pred = classifier_dt.predict(x_test)"
      ],
      "execution_count": 28,
      "outputs": []
    },
    {
      "cell_type": "code",
      "metadata": {
        "colab": {
          "base_uri": "https://localhost:8080/"
        },
        "id": "olj_DSSRuV_u",
        "outputId": "696e7167-39ad-42fe-8dee-76856938909f"
      },
      "source": [
        "confusion_matrix(y_test,y_pred)"
      ],
      "execution_count": 29,
      "outputs": [
        {
          "output_type": "execute_result",
          "data": {
            "text/plain": [
              "array([[10,  0,  0],\n",
              "       [ 0, 12,  1],\n",
              "       [ 0,  0,  7]])"
            ]
          },
          "metadata": {
            "tags": []
          },
          "execution_count": 29
        }
      ]
    },
    {
      "cell_type": "code",
      "metadata": {
        "id": "r1GziFKQuYoW"
      },
      "source": [
        ""
      ],
      "execution_count": null,
      "outputs": []
    }
  ]
}